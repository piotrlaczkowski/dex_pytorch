{
 "cells": [
  {
   "cell_type": "code",
   "execution_count": 1,
   "metadata": {},
   "outputs": [],
   "source": [
    "import os\n",
    "import torch\n",
    "import numpy as np\n",
    "import pandas as pd\n",
    "from sklearn.metrics import mean_absolute_error, mean_squared_error\n"
   ]
  },
  {
   "cell_type": "code",
   "execution_count": null,
   "metadata": {},
   "outputs": [],
   "source": [
    "tt.msg_telegram(text=f\"TRAINING START -> OK ✅\")"
   ]
  },
  {
   "cell_type": "code",
   "execution_count": 2,
   "metadata": {},
   "outputs": [],
   "source": [
    "import plotly.express as px"
   ]
  },
  {
   "cell_type": "code",
   "execution_count": 3,
   "metadata": {},
   "outputs": [],
   "source": [
    "%load_ext autoreload\n",
    "%autoreload 2"
   ]
  },
  {
   "cell_type": "code",
   "execution_count": 4,
   "metadata": {},
   "outputs": [
    {
     "data": {
      "text/plain": [
       "'1.21.4'"
      ]
     },
     "execution_count": 4,
     "metadata": {},
     "output_type": "execute_result"
    }
   ],
   "source": [
    "\n",
    "np.__version__"
   ]
  },
  {
   "cell_type": "code",
   "execution_count": 25,
   "metadata": {},
   "outputs": [],
   "source": [
    "from pytorch_tabular import TabularModel\n",
    "from pytorch_tabular.models import CategoryEmbeddingModelConfig\n",
    "from pytorch_tabular.config import (\n",
    "    DataConfig,\n",
    "    OptimizerConfig,\n",
    "    TrainerConfig,\n",
    "    ExperimentConfig,\n",
    ")\n"
   ]
  },
  {
   "cell_type": "markdown",
   "metadata": {},
   "source": [
    "## Load Data"
   ]
  },
  {
   "cell_type": "code",
   "execution_count": 6,
   "metadata": {},
   "outputs": [],
   "source": [
    "target_col = \"price\""
   ]
  },
  {
   "cell_type": "code",
   "execution_count": 7,
   "metadata": {},
   "outputs": [],
   "source": [
    "df = pd.read_csv(\"data/train_data.csv\")\n",
    "df = df.dropna()\n",
    "y = df.pop(target_col)\n",
    "X = df"
   ]
  },
  {
   "cell_type": "code",
   "execution_count": 8,
   "metadata": {},
   "outputs": [
    {
     "data": {
      "text/plain": [
       "(92329, 26)"
      ]
     },
     "execution_count": 8,
     "metadata": {},
     "output_type": "execute_result"
    }
   ],
   "source": [
    "# X.pop(\"ID_PRODUCT\")\n",
    "X.shape"
   ]
  },
  {
   "cell_type": "code",
   "execution_count": 9,
   "metadata": {},
   "outputs": [
    {
     "data": {
      "text/plain": [
       "(92329, 26)"
      ]
     },
     "execution_count": 9,
     "metadata": {},
     "output_type": "execute_result"
    }
   ],
   "source": [
    "X.dropna().shape"
   ]
  },
  {
   "cell_type": "code",
   "execution_count": 29,
   "metadata": {},
   "outputs": [],
   "source": [
    "# defining inputs\n",
    "NUM_COLS = [\"hours_online\", \"date_sold_day_sin\", \"date_sold_day_cos\", \"date_sold_dayofweek_sin\",\n",
    "            \"date_sold_dayofweek_cos\", \"date_sold_month_sin\", \"date_sold_month_cos\", \"date_sold_year\"]\n",
    "\n",
    "CAT_COLS = [\"id_universe\", \"id_category\", \"id_subcat\", \"id_sub_subcat\", \"id_brand\", \"id_model\", \"id_color\", \"id_material\",\n",
    "            \"id_condition\", \"vintage\", \"id_bracelet\", \"id_box\", \"id_mechanism\", \"id_size_type\", \"geo2_seller\", \"order_currency\"]\n",
    "\n",
    "\n",
    "TARGET_COL = \"price\"\n"
   ]
  },
  {
   "cell_type": "code",
   "execution_count": 1,
   "metadata": {},
   "outputs": [],
   "source": [
    "px.histogram(df, x=target_col, title=\"Histogram\")"
   ]
  },
  {
   "cell_type": "code",
   "execution_count": 30,
   "metadata": {},
   "outputs": [
    {
     "data": {
      "text/plain": [
       "DataConfig(target=['price'], continuous_cols=[], categorical_cols=['id_sub_subcat'], date_columns=[], encode_date_columns=True, validation_split=0.15, continuous_feature_transform='quantile_normal', normalize_continuous_features=True, quantile_noise=0, num_workers=8, categorical_dim=1, continuous_dim=0)"
      ]
     },
     "execution_count": 30,
     "metadata": {},
     "output_type": "execute_result"
    }
   ],
   "source": [
    "DATA_CONFIG = DataConfig(\n",
    "    target=[TARGET_COL],\n",
    "    continuous_cols=NUM_COLS,\n",
    "    categorical_cols=CAT_COLS,\n",
    "    validation_split=0.15,\n",
    "    continuous_feature_transform=\"quantile_normal\",\n",
    "    normalize_continuous_features=True,\n",
    "    num_workers=os.cpu_count(),\n",
    ")\n",
    "DATA_CONFIG\n"
   ]
  },
  {
   "cell_type": "code",
   "execution_count": 31,
   "metadata": {},
   "outputs": [
    {
     "data": {
      "text/plain": [
       "TrainerConfig(batch_size=512, fast_dev_run=False, max_epochs=5, min_epochs=2, max_time=None, gpus=None, accumulate_grad_batches=1, auto_lr_find=True, auto_select_gpus=True, check_val_every_n_epoch=1, gradient_clip_val=0.0, overfit_batches=0.0, deterministic=False, profiler=None, early_stopping='valid_loss', early_stopping_min_delta=0.001, early_stopping_mode='min', early_stopping_patience=3, checkpoints='valid_loss', checkpoints_path='saved_models', checkpoints_name=None, checkpoints_mode='min', checkpoints_save_top_k=1, load_best=True, track_grad_norm=-1)"
      ]
     },
     "execution_count": 31,
     "metadata": {},
     "output_type": "execute_result"
    }
   ],
   "source": [
    "TRAINER_CONFIG = TrainerConfig(\n",
    "    auto_lr_find=True,  # Runs the LRFinder to automatically derive a learning rate\n",
    "    batch_size=512,\n",
    "    max_epochs=5,\n",
    "    min_epochs=2,\n",
    "    load_best=True,\n",
    "    # track_grad_norm=2,\n",
    "    # gpus=1,\n",
    ")\n",
    "TRAINER_CONFIG\n"
   ]
  },
  {
   "cell_type": "code",
   "execution_count": 32,
   "metadata": {},
   "outputs": [
    {
     "data": {
      "text/plain": [
       "OptimizerConfig(optimizer='Adam', optimizer_params={'weight_decay': 0, 'amsgrad': False}, lr_scheduler='ReduceLROnPlateau', lr_scheduler_params={'patience': 7}, lr_scheduler_monitor_metric='valid_loss')"
      ]
     },
     "execution_count": 32,
     "metadata": {},
     "output_type": "execute_result"
    }
   ],
   "source": [
    "# optimizer_config = OptimizerConfig(lr_scheduler=\"OneCycleLR\", lr_scheduler_params={\"max_lr\":0.005, \"epochs\": epochs, \"steps_per_epoch\":steps_per_epoch})\n",
    "OPTIMIZER_CONFIG = OptimizerConfig(lr_scheduler=\"ReduceLROnPlateau\", lr_scheduler_params={\"patience\": 7},)\n",
    "OPTIMIZER_CONFIG\n"
   ]
  },
  {
   "cell_type": "code",
   "execution_count": 33,
   "metadata": {},
   "outputs": [
    {
     "data": {
      "text/plain": [
       "CategoryEmbeddingModelConfig(task='regression', embedding_dims=None, learning_rate=0.001, loss='MSELoss', metrics=['mean_squared_error'], metrics_params=[{}], target_range=None, seed=42, layers='512-128-64', batch_norm_continuous_input=False, activation='LeakyReLU', embedding_dropout=0.3, dropout=0.3, use_batch_norm=False, initialization='kaiming', _module_src='category_embedding', _model_name='CategoryEmbeddingModel', _config_name='CategoryEmbeddingModelConfig')"
      ]
     },
     "execution_count": 33,
     "metadata": {},
     "output_type": "execute_result"
    }
   ],
   "source": [
    "\n",
    "MODEL_CONFIG = CategoryEmbeddingModelConfig(\n",
    "    task=\"regression\",\n",
    "    layers=\"512-128-64\",  # Number of nodes in each layer\n",
    "    activation=\"LeakyReLU\",  # Activation between each layers\n",
    "    learning_rate=1e-3,\n",
    "    # loss=\"BCELoss\",\n",
    "    embedding_dropout=0.3,\n",
    "    batch_norm_continuous_input=False,\n",
    "    dropout=0.3,\n",
    "    # metrics=[\"accuracy\", \"f1_score\"],\n",
    "    # metrics_params=[{\"num_classes\": 2}, {\"average\": \"micro\"}],\n",
    ")\n",
    "\n",
    "MODEL_CONFIG"
   ]
  },
  {
   "cell_type": "code",
   "execution_count": 34,
   "metadata": {},
   "outputs": [],
   "source": [
    "tabular_model = TabularModel(\n",
    "    data_config=DATA_CONFIG,\n",
    "    model_config=MODEL_CONFIG,\n",
    "    optimizer_config=OPTIMIZER_CONFIG,\n",
    "    trainer_config=TRAINER_CONFIG,\n",
    ")\n"
   ]
  },
  {
   "cell_type": "markdown",
   "metadata": {},
   "source": [
    "## Training the Model"
   ]
  },
  {
   "cell_type": "code",
   "execution_count": 35,
   "metadata": {},
   "outputs": [
    {
     "name": "stderr",
     "output_type": "stream",
     "text": [
      "Global seed set to 42\n",
      "/opt/miniconda3/envs/dex_torch/lib/python3.8/site-packages/pytorch_lightning/utilities/distributed.py:69: UserWarning:\n",
      "\n",
      "Checkpoint directory saved_models exists and is not empty.\n",
      "\n",
      "GPU available: False, used: False\n",
      "TPU available: False, using: 0 TPU cores\n",
      "\n",
      "  | Name             | Type                | Params\n",
      "---------------------------------------------------------\n",
      "0 | embedding_layers | ModuleList          | 14.3 K\n",
      "1 | backbone         | FeedForwardBackbone | 100 K \n",
      "2 | output_layer     | Linear              | 65    \n",
      "3 | loss             | MSELoss             | 0     \n",
      "---------------------------------------------------------\n",
      "114 K     Trainable params\n",
      "0         Non-trainable params\n",
      "114 K     Total params\n",
      "0.458     Total estimated model params size (MB)\n",
      "Global seed set to 42\n",
      "Finding best initial lr:  98%|█████████▊| 98/100 [00:01<00:00, 49.46it/s]\n",
      "LR finder stopped early after 98 steps due to diverging loss.\n",
      "Restored states from the checkpoint file at /Users/piotr.laczkowski/Desktop/PROJECTS/dex_pytorch/lr_find_temp_model.ckpt\n",
      "Learning rate set to 5.75439937337157e-07\n",
      "\n",
      "  | Name             | Type                | Params\n",
      "---------------------------------------------------------\n",
      "0 | embedding_layers | ModuleList          | 14.3 K\n",
      "1 | backbone         | FeedForwardBackbone | 100 K \n",
      "2 | output_layer     | Linear              | 65    \n",
      "3 | loss             | MSELoss             | 0     \n",
      "---------------------------------------------------------\n",
      "114 K     Trainable params\n",
      "0         Non-trainable params\n",
      "114 K     Total params\n",
      "0.458     Total estimated model params size (MB)\n"
     ]
    },
    {
     "name": "stdout",
     "output_type": "stream",
     "text": [
      "                                                                      "
     ]
    },
    {
     "name": "stderr",
     "output_type": "stream",
     "text": [
      "Global seed set to 42\n"
     ]
    },
    {
     "name": "stdout",
     "output_type": "stream",
     "text": [
      "Epoch 4: 100%|██████████| 182/182 [01:59<00:00,  1.41s/it, loss=3.62e+05, valid_loss=7.92e+5, valid_mean_squared_error=7.92e+5, train_loss=1.25e+5, train_mean_squared_error=4.88e+5]    "
     ]
    }
   ],
   "source": [
    "# from sklearn.preprocessing import PowerTransformer\n",
    "\n",
    "tabular_model.fit(df)\n"
   ]
  },
  {
   "cell_type": "code",
   "execution_count": 38,
   "metadata": {},
   "outputs": [],
   "source": [
    "torch.save(tabular_model, \"models/small_model.pt\")\n"
   ]
  },
  {
   "cell_type": "markdown",
   "metadata": {},
   "source": [
    "## Evaluation"
   ]
  },
  {
   "cell_type": "code",
   "execution_count": 62,
   "metadata": {},
   "outputs": [
    {
     "name": "stderr",
     "output_type": "stream",
     "text": [
      "/opt/miniconda3/envs/dex_torch/lib/python3.8/site-packages/pytorch_lightning/utilities/distributed.py:69: UserWarning:\n",
      "\n",
      "The dataloader, test dataloader 0, does not have many workers which may be a bottleneck. Consider increasing the value of the `num_workers` argument` (try 8 which is the number of cpus on this machine) in the `DataLoader` init to improve performance.\n",
      "\n"
     ]
    },
    {
     "name": "stdout",
     "output_type": "stream",
     "text": [
      "Testing: 100%|██████████| 36/36 [00:00<00:00, 72.23it/s]\n",
      "--------------------------------------------------------------------------------\n",
      "DATALOADER:0 TEST RESULTS\n",
      "{'test_mean_squared_error': 70869.75, 'test_mean_squared_error_0': 70869.75}\n",
      "--------------------------------------------------------------------------------\n",
      "Epoch 9: 100%|██████████| 142/142 [00:15<00:00,  2.86it/s, loss=137, valid_loss=141.0, valid_mean_squared_error=7.44e+4, train_loss=147.0, train_mean_squared_error=6.72e+4]"
     ]
    }
   ],
   "source": [
    "result = tabular_model.evaluate(df_test)\n"
   ]
  },
  {
   "cell_type": "markdown",
   "metadata": {},
   "source": [
    "## Predictions"
   ]
  },
  {
   "cell_type": "code",
   "execution_count": 63,
   "metadata": {},
   "outputs": [
    {
     "name": "stderr",
     "output_type": "stream",
     "text": [
      "Generating Predictions...: 100%|██████████| 36/36 [00:00<00:00, 73.38it/s]\n"
     ]
    },
    {
     "data": {
      "text/html": [
       "<div>\n",
       "<style scoped>\n",
       "    .dataframe tbody tr th:only-of-type {\n",
       "        vertical-align: middle;\n",
       "    }\n",
       "\n",
       "    .dataframe tbody tr th {\n",
       "        vertical-align: top;\n",
       "    }\n",
       "\n",
       "    .dataframe thead th {\n",
       "        text-align: right;\n",
       "    }\n",
       "</style>\n",
       "<table border=\"1\" class=\"dataframe\">\n",
       "  <thead>\n",
       "    <tr style=\"text-align: right;\">\n",
       "      <th></th>\n",
       "      <th>hours_online</th>\n",
       "      <th>date_sold_day_sin</th>\n",
       "      <th>date_sold_day_cos</th>\n",
       "      <th>date_sold_dayofweek_sin</th>\n",
       "      <th>date_sold_dayofweek_cos</th>\n",
       "      <th>date_sold_month_sin</th>\n",
       "      <th>date_sold_month_cos</th>\n",
       "      <th>date_sold_year</th>\n",
       "      <th>id_universe</th>\n",
       "      <th>id_category</th>\n",
       "      <th>...</th>\n",
       "      <th>vintage</th>\n",
       "      <th>id_bracelet</th>\n",
       "      <th>id_box</th>\n",
       "      <th>id_mechanism</th>\n",
       "      <th>id_size_type</th>\n",
       "      <th>geo2_seller</th>\n",
       "      <th>order_currency</th>\n",
       "      <th>id_product</th>\n",
       "      <th>price</th>\n",
       "      <th>price_prediction</th>\n",
       "    </tr>\n",
       "  </thead>\n",
       "  <tbody>\n",
       "    <tr>\n",
       "      <th>10715</th>\n",
       "      <td>-0.863823</td>\n",
       "      <td>0.101168</td>\n",
       "      <td>-0.994869</td>\n",
       "      <td>-8.660254e-01</td>\n",
       "      <td>-0.5</td>\n",
       "      <td>0.5</td>\n",
       "      <td>-8.660254e-01</td>\n",
       "      <td>0.5</td>\n",
       "      <td>1.0</td>\n",
       "      <td>4.0</td>\n",
       "      <td>...</td>\n",
       "      <td>1.0</td>\n",
       "      <td>0.0</td>\n",
       "      <td>0.0</td>\n",
       "      <td>0.0</td>\n",
       "      <td>0.0</td>\n",
       "      <td>8.0</td>\n",
       "      <td>4.0</td>\n",
       "      <td>12801280.0</td>\n",
       "      <td>45.0</td>\n",
       "      <td>104.748390</td>\n",
       "    </tr>\n",
       "    <tr>\n",
       "      <th>89998</th>\n",
       "      <td>0.162434</td>\n",
       "      <td>0.485302</td>\n",
       "      <td>-0.874347</td>\n",
       "      <td>8.660254e-01</td>\n",
       "      <td>-0.5</td>\n",
       "      <td>0.5</td>\n",
       "      <td>-8.660254e-01</td>\n",
       "      <td>0.5</td>\n",
       "      <td>1.0</td>\n",
       "      <td>4.0</td>\n",
       "      <td>...</td>\n",
       "      <td>0.0</td>\n",
       "      <td>0.0</td>\n",
       "      <td>0.0</td>\n",
       "      <td>0.0</td>\n",
       "      <td>0.0</td>\n",
       "      <td>8.0</td>\n",
       "      <td>9.0</td>\n",
       "      <td>12990957.0</td>\n",
       "      <td>237.0</td>\n",
       "      <td>115.297653</td>\n",
       "    </tr>\n",
       "    <tr>\n",
       "      <th>69997</th>\n",
       "      <td>1.944323</td>\n",
       "      <td>-0.299363</td>\n",
       "      <td>-0.954139</td>\n",
       "      <td>1.224647e-16</td>\n",
       "      <td>-1.0</td>\n",
       "      <td>-1.0</td>\n",
       "      <td>-1.836970e-16</td>\n",
       "      <td>0.5</td>\n",
       "      <td>1.0</td>\n",
       "      <td>1.0</td>\n",
       "      <td>...</td>\n",
       "      <td>0.0</td>\n",
       "      <td>0.0</td>\n",
       "      <td>0.0</td>\n",
       "      <td>0.0</td>\n",
       "      <td>146.0</td>\n",
       "      <td>7.0</td>\n",
       "      <td>11.0</td>\n",
       "      <td>6453975.0</td>\n",
       "      <td>125.0</td>\n",
       "      <td>119.937683</td>\n",
       "    </tr>\n",
       "    <tr>\n",
       "      <th>77622</th>\n",
       "      <td>0.167783</td>\n",
       "      <td>0.790776</td>\n",
       "      <td>-0.612106</td>\n",
       "      <td>1.224647e-16</td>\n",
       "      <td>-1.0</td>\n",
       "      <td>-0.5</td>\n",
       "      <td>-8.660254e-01</td>\n",
       "      <td>0.0</td>\n",
       "      <td>1.0</td>\n",
       "      <td>4.0</td>\n",
       "      <td>...</td>\n",
       "      <td>0.0</td>\n",
       "      <td>0.0</td>\n",
       "      <td>0.0</td>\n",
       "      <td>0.0</td>\n",
       "      <td>0.0</td>\n",
       "      <td>5.0</td>\n",
       "      <td>11.0</td>\n",
       "      <td>10252176.0</td>\n",
       "      <td>109.0</td>\n",
       "      <td>111.639824</td>\n",
       "    </tr>\n",
       "    <tr>\n",
       "      <th>87045</th>\n",
       "      <td>-0.509495</td>\n",
       "      <td>0.101168</td>\n",
       "      <td>-0.994869</td>\n",
       "      <td>8.660254e-01</td>\n",
       "      <td>0.5</td>\n",
       "      <td>-1.0</td>\n",
       "      <td>-1.836970e-16</td>\n",
       "      <td>0.5</td>\n",
       "      <td>1.0</td>\n",
       "      <td>2.0</td>\n",
       "      <td>...</td>\n",
       "      <td>0.0</td>\n",
       "      <td>0.0</td>\n",
       "      <td>0.0</td>\n",
       "      <td>0.0</td>\n",
       "      <td>152.0</td>\n",
       "      <td>5.0</td>\n",
       "      <td>11.0</td>\n",
       "      <td>10328963.0</td>\n",
       "      <td>253.0</td>\n",
       "      <td>114.860733</td>\n",
       "    </tr>\n",
       "  </tbody>\n",
       "</table>\n",
       "<p>5 rows × 27 columns</p>\n",
       "</div>"
      ],
      "text/plain": [
       "       hours_online  date_sold_day_sin  date_sold_day_cos  \\\n",
       "10715     -0.863823           0.101168          -0.994869   \n",
       "89998      0.162434           0.485302          -0.874347   \n",
       "69997      1.944323          -0.299363          -0.954139   \n",
       "77622      0.167783           0.790776          -0.612106   \n",
       "87045     -0.509495           0.101168          -0.994869   \n",
       "\n",
       "       date_sold_dayofweek_sin  date_sold_dayofweek_cos  date_sold_month_sin  \\\n",
       "10715            -8.660254e-01                     -0.5                  0.5   \n",
       "89998             8.660254e-01                     -0.5                  0.5   \n",
       "69997             1.224647e-16                     -1.0                 -1.0   \n",
       "77622             1.224647e-16                     -1.0                 -0.5   \n",
       "87045             8.660254e-01                      0.5                 -1.0   \n",
       "\n",
       "       date_sold_month_cos  date_sold_year  id_universe  id_category  ...  \\\n",
       "10715        -8.660254e-01             0.5          1.0          4.0  ...   \n",
       "89998        -8.660254e-01             0.5          1.0          4.0  ...   \n",
       "69997        -1.836970e-16             0.5          1.0          1.0  ...   \n",
       "77622        -8.660254e-01             0.0          1.0          4.0  ...   \n",
       "87045        -1.836970e-16             0.5          1.0          2.0  ...   \n",
       "\n",
       "       vintage  id_bracelet  id_box  id_mechanism  id_size_type  geo2_seller  \\\n",
       "10715      1.0          0.0     0.0           0.0           0.0          8.0   \n",
       "89998      0.0          0.0     0.0           0.0           0.0          8.0   \n",
       "69997      0.0          0.0     0.0           0.0         146.0          7.0   \n",
       "77622      0.0          0.0     0.0           0.0           0.0          5.0   \n",
       "87045      0.0          0.0     0.0           0.0         152.0          5.0   \n",
       "\n",
       "       order_currency  id_product  price  price_prediction  \n",
       "10715             4.0  12801280.0   45.0        104.748390  \n",
       "89998             9.0  12990957.0  237.0        115.297653  \n",
       "69997            11.0   6453975.0  125.0        119.937683  \n",
       "77622            11.0  10252176.0  109.0        111.639824  \n",
       "87045            11.0  10328963.0  253.0        114.860733  \n",
       "\n",
       "[5 rows x 27 columns]"
      ]
     },
     "execution_count": 63,
     "metadata": {},
     "output_type": "execute_result"
    }
   ],
   "source": [
    "pred_df = tabular_model.predict(df_test)\n",
    "pred_df.head()"
   ]
  },
  {
   "cell_type": "code",
   "execution_count": 64,
   "metadata": {},
   "outputs": [
    {
     "data": {
      "text/html": [
       "<div>\n",
       "<style scoped>\n",
       "    .dataframe tbody tr th:only-of-type {\n",
       "        vertical-align: middle;\n",
       "    }\n",
       "\n",
       "    .dataframe tbody tr th {\n",
       "        vertical-align: top;\n",
       "    }\n",
       "\n",
       "    .dataframe thead th {\n",
       "        text-align: right;\n",
       "    }\n",
       "</style>\n",
       "<table border=\"1\" class=\"dataframe\">\n",
       "  <thead>\n",
       "    <tr style=\"text-align: right;\">\n",
       "      <th></th>\n",
       "      <th>price</th>\n",
       "      <th>price_prediction</th>\n",
       "    </tr>\n",
       "  </thead>\n",
       "  <tbody>\n",
       "    <tr>\n",
       "      <th>15740</th>\n",
       "      <td>550</td>\n",
       "      <td>111</td>\n",
       "    </tr>\n",
       "    <tr>\n",
       "      <th>11660</th>\n",
       "      <td>170</td>\n",
       "      <td>111</td>\n",
       "    </tr>\n",
       "    <tr>\n",
       "      <th>69982</th>\n",
       "      <td>255</td>\n",
       "      <td>111</td>\n",
       "    </tr>\n",
       "    <tr>\n",
       "      <th>58215</th>\n",
       "      <td>562</td>\n",
       "      <td>115</td>\n",
       "    </tr>\n",
       "    <tr>\n",
       "      <th>19998</th>\n",
       "      <td>155</td>\n",
       "      <td>111</td>\n",
       "    </tr>\n",
       "    <tr>\n",
       "      <th>54105</th>\n",
       "      <td>92</td>\n",
       "      <td>114</td>\n",
       "    </tr>\n",
       "    <tr>\n",
       "      <th>10212</th>\n",
       "      <td>41</td>\n",
       "      <td>97</td>\n",
       "    </tr>\n",
       "    <tr>\n",
       "      <th>62102</th>\n",
       "      <td>31</td>\n",
       "      <td>111</td>\n",
       "    </tr>\n",
       "    <tr>\n",
       "      <th>3381</th>\n",
       "      <td>25</td>\n",
       "      <td>105</td>\n",
       "    </tr>\n",
       "    <tr>\n",
       "      <th>1194</th>\n",
       "      <td>37</td>\n",
       "      <td>101</td>\n",
       "    </tr>\n",
       "    <tr>\n",
       "      <th>23577</th>\n",
       "      <td>48</td>\n",
       "      <td>105</td>\n",
       "    </tr>\n",
       "    <tr>\n",
       "      <th>50930</th>\n",
       "      <td>120</td>\n",
       "      <td>95</td>\n",
       "    </tr>\n",
       "    <tr>\n",
       "      <th>82220</th>\n",
       "      <td>25</td>\n",
       "      <td>86</td>\n",
       "    </tr>\n",
       "    <tr>\n",
       "      <th>2577</th>\n",
       "      <td>74</td>\n",
       "      <td>119</td>\n",
       "    </tr>\n",
       "    <tr>\n",
       "      <th>33787</th>\n",
       "      <td>250</td>\n",
       "      <td>94</td>\n",
       "    </tr>\n",
       "    <tr>\n",
       "      <th>53473</th>\n",
       "      <td>115</td>\n",
       "      <td>105</td>\n",
       "    </tr>\n",
       "    <tr>\n",
       "      <th>28160</th>\n",
       "      <td>190</td>\n",
       "      <td>110</td>\n",
       "    </tr>\n",
       "    <tr>\n",
       "      <th>55799</th>\n",
       "      <td>118</td>\n",
       "      <td>92</td>\n",
       "    </tr>\n",
       "    <tr>\n",
       "      <th>29141</th>\n",
       "      <td>150</td>\n",
       "      <td>105</td>\n",
       "    </tr>\n",
       "    <tr>\n",
       "      <th>61074</th>\n",
       "      <td>562</td>\n",
       "      <td>114</td>\n",
       "    </tr>\n",
       "  </tbody>\n",
       "</table>\n",
       "</div>"
      ],
      "text/plain": [
       "       price  price_prediction\n",
       "15740    550               111\n",
       "11660    170               111\n",
       "69982    255               111\n",
       "58215    562               115\n",
       "19998    155               111\n",
       "54105     92               114\n",
       "10212     41                97\n",
       "62102     31               111\n",
       "3381      25               105\n",
       "1194      37               101\n",
       "23577     48               105\n",
       "50930    120                95\n",
       "82220     25                86\n",
       "2577      74               119\n",
       "33787    250                94\n",
       "53473    115               105\n",
       "28160    190               110\n",
       "55799    118                92\n",
       "29141    150               105\n",
       "61074    562               114"
      ]
     },
     "execution_count": 64,
     "metadata": {},
     "output_type": "execute_result"
    }
   ],
   "source": [
    "pred_df.filter(regex=f\"{target_col}*\").sample(20).astype(int)"
   ]
  },
  {
   "cell_type": "code",
   "execution_count": 65,
   "metadata": {},
   "outputs": [],
   "source": [
    "def print_metrics(y_true, y_pred, tag):\n",
    "    if isinstance(y_true, pd.DataFrame) or isinstance(y_true, pd.Series):\n",
    "        y_true = y_true.values\n",
    "    if isinstance(y_pred, pd.DataFrame) or isinstance(y_pred, pd.Series):\n",
    "        y_pred = y_pred.values\n",
    "    if y_true.ndim>1:\n",
    "        y_true=y_true.ravel()\n",
    "    if y_pred.ndim>1:\n",
    "        y_pred=y_pred.ravel()\n",
    "    val_acc = mean_squared_error(y_true, y_pred)\n",
    "    val_f1 = mean_absolute_error(y_true, y_pred)\n",
    "    print(f\"{tag} MSE: {val_acc:.4f} | {tag} MAE: {val_f1:.4f}\")"
   ]
  },
  {
   "cell_type": "code",
   "execution_count": 66,
   "metadata": {},
   "outputs": [
    {
     "name": "stdout",
     "output_type": "stream",
     "text": [
      "Test MSE: 70869.7495 | Test MAE: 138.0806\n"
     ]
    }
   ],
   "source": [
    "print_metrics(\n",
    "    y_true=pred_df[target_col],\n",
    "    y_pred=pred_df[f\"{target_col}_prediction\"],\n",
    "    tag=\"Test\"\n",
    ")"
   ]
  },
  {
   "cell_type": "code",
   "execution_count": 40,
   "metadata": {},
   "outputs": [],
   "source": [
    "# import scipy.stats as ss\n",
    "\n",
    "# def plot_normal(x_range, mu=0, sigma=1, cdf=False, **kwargs):\n",
    "#     '''\n",
    "#     Plots the normal distribution function for a given x range\n",
    "#     If mu and sigma are not provided, standard normal is plotted\n",
    "#     If cdf=True cumulative distribution is plotted\n",
    "#     Passes any keyword arguments to matplotlib plot function\n",
    "#     '''\n",
    "#     x = x_range\n",
    "#     if cdf:\n",
    "#         y = ss.norm.cdf(x, mu, sigma)\n",
    "#     else:\n",
    "#         y = ss.norm.pdf(x, mu, sigma)\n",
    "#     return x,y"
   ]
  },
  {
   "cell_type": "code",
   "execution_count": 44,
   "metadata": {},
   "outputs": [],
   "source": [
    "# import torch\n",
    "# from torch import nn\n",
    "\n",
    "# from torch.autograd import Variable\n",
    "# from torch.distributions import Categorical\n",
    "\n",
    "# def get_pdf(idx):\n",
    "#     row = pred_df.iloc[idx]\n",
    "#     pi = torch.from_numpy(row.filter(regex=\"pi_\").values).unsqueeze(0)\n",
    "#     mu = torch.from_numpy(row.filter(regex=\"mu_\").values).unsqueeze(0)\n",
    "#     sigma = torch.from_numpy(row.filter(regex=\"sigma_\").values).unsqueeze(0)\n",
    "#     softmax_pi = nn.functional.gumbel_softmax(pi, tau=1, dim=-1)\n",
    "#     categorical = Categorical(softmax_pi)\n",
    "#     pis = categorical.sample().unsqueeze(1)\n",
    "#     sigma = sigma.gather(1, pis).item()\n",
    "#     mu = mu.gather(1, pis).item()\n",
    "#     x = np.linspace(row[f'{target_col}_prediction'].item() * 0.1, row[f'{target_col}_prediction'].item() * 1.9, 1000)\n",
    "#     return plot_normal(x, mu=mu, sigma=sigma)"
   ]
  },
  {
   "cell_type": "code",
   "execution_count": 45,
   "metadata": {},
   "outputs": [],
   "source": [
    "# idxs = [2, 173, 412, 365]"
   ]
  },
  {
   "cell_type": "code",
   "execution_count": 37,
   "metadata": {},
   "outputs": [],
   "source": [
    "# traces = []\n",
    "# for idx in idxs:\n",
    "#     x,y = get_pdf(idx)\n",
    "#     trace = go.Scatter(\n",
    "#             name=f'House_{idx}',\n",
    "#             x=x,\n",
    "#             y=y,\n",
    "#             mode='lines',\n",
    "#             # line=dict(color='rgba(246, 76, 114, 1)'),\n",
    "#         )\n",
    "#     traces.append(trace)\n",
    "\n",
    "# fig = go.Figure(traces)\n",
    "# fig.update_layout(\n",
    "#     yaxis_title='P(MEDV)',\n",
    "#     xaxis_title='MEDV',\n",
    "# #     yaxis_range=[-0.2,1],\n",
    "#     title='PDFs of different Products',\n",
    "#     hovermode=\"x\"\n",
    "# )\n",
    "# fig.show()"
   ]
  },
  {
   "cell_type": "markdown",
   "metadata": {},
   "source": [
    "## Saving the model"
   ]
  },
  {
   "cell_type": "code",
   "execution_count": 67,
   "metadata": {},
   "outputs": [],
   "source": [
    "PATH = \"models/model_regression.pt\""
   ]
  },
  {
   "cell_type": "code",
   "execution_count": 70,
   "metadata": {},
   "outputs": [],
   "source": [
    "torch.save(tabular_model, PATH)"
   ]
  },
  {
   "cell_type": "code",
   "execution_count": 52,
   "metadata": {},
   "outputs": [
    {
     "name": "stderr",
     "output_type": "stream",
     "text": [
      "/opt/anaconda3/envs/dex_torch/lib/python3.8/site-packages/pytorch_lightning/utilities/distributed.py:69: UserWarning:\n",
      "\n",
      "The dataloader, test dataloader 0, does not have many workers which may be a bottleneck. Consider increasing the value of the `num_workers` argument` (try 4 which is the number of cpus on this machine) in the `DataLoader` init to improve performance.\n",
      "\n"
     ]
    },
    {
     "name": "stdout",
     "output_type": "stream",
     "text": [
      "Testing: 100%|██████████| 34/34 [00:03<00:00, 11.14it/s]\n",
      "--------------------------------------------------------------------------------\n",
      "DATALOADER:0 TEST RESULTS\n",
      "{'test_mean_squared_error': 73922.421875,\n",
      " 'test_mean_squared_error_0': 73922.421875}\n",
      "--------------------------------------------------------------------------------\n"
     ]
    },
    {
     "data": {
      "text/plain": [
       "[{'test_mean_squared_error': 73922.421875,\n",
       "  'test_mean_squared_error_0': 73922.421875}]"
      ]
     },
     "execution_count": 52,
     "metadata": {},
     "output_type": "execute_result"
    }
   ],
   "source": [
    "# Load\n",
    "model = torch.load(PATH)\n",
    "model.evaluate(df_test)"
   ]
  },
  {
   "cell_type": "code",
   "execution_count": null,
   "metadata": {},
   "outputs": [],
   "source": []
  }
 ],
 "metadata": {
  "interpreter": {
   "hash": "1ad5d1abda3ed4bc96c5aa8997abf36dcbb306112a80bf2e9b0eb19f44587acc"
  },
  "kernelspec": {
   "display_name": "Python 3.8.10 64-bit ('dex_torch': conda)",
   "name": "python3"
  },
  "language_info": {
   "codemirror_mode": {
    "name": "ipython",
    "version": 3
   },
   "file_extension": ".py",
   "mimetype": "text/x-python",
   "name": "python",
   "nbconvert_exporter": "python",
   "pygments_lexer": "ipython3",
   "version": "3.8.12"
  },
  "orig_nbformat": 4
 },
 "nbformat": 4,
 "nbformat_minor": 2
}
